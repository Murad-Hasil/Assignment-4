{
  "nbformat": 4,
  "nbformat_minor": 0,
  "metadata": {
    "colab": {
      "provenance": []
    },
    "kernelspec": {
      "name": "python3",
      "display_name": "Python 3"
    },
    "language_info": {
      "name": "python"
    }
  },
  "cells": [
    {
      "cell_type": "markdown",
      "source": [
        "# 00_joke_bot"
      ],
      "metadata": {
        "id": "Z_e8krHyI8Lj"
      }
    },
    {
      "cell_type": "code",
      "execution_count": 8,
      "metadata": {
        "colab": {
          "base_uri": "https://localhost:8080/"
        },
        "id": "l8B6qvfJIfae",
        "outputId": "d83dbd63-a3c2-4fa9-9319-c8c212605daa"
      },
      "outputs": [
        {
          "output_type": "stream",
          "name": "stdout",
          "text": [
            "00_joke_bot\n",
            "What do you want? joke\n",
            "Why don’t skeletons fight each other? \n",
            " Because they don’t have the guts! 😆\n"
          ]
        }
      ],
      "source": [
        "print(\"00_joke_bot\")\n",
        "\n",
        "PROMPT : str = \"What do you want? \"\n",
        "JOKE : str = \"Why don’t skeletons fight each other? \\n Because they don’t have the guts! 😆\"\n",
        "SORRY : str = \"Sorry I only tell jokes.\"\n",
        "\n",
        "def main():\n",
        "  user_input = input(PROMPT)\n",
        "  user_input = user_input.strip().lower()\n",
        "\n",
        "  if \"joke\" in user_input:\n",
        "    print(JOKE)\n",
        "  else:\n",
        "    print(SORRY)\n",
        "\n",
        "if __name__ == \"__main__\":\n",
        "  main()"
      ]
    },
    {
      "cell_type": "markdown",
      "source": [
        "# 01_double_it"
      ],
      "metadata": {
        "id": "ydFRe9LCMDmC"
      }
    },
    {
      "cell_type": "code",
      "source": [
        "print(\"01_double_it\")\n",
        "\n",
        "def main():\n",
        "  user_value = int(input(\"Enter a number: \"))\n",
        "  while user_value < 100:\n",
        "    user_value = user_value * 2\n",
        "    print(user_value)\n",
        "\n",
        "if __name__ == \"__main__\":\n",
        "  main()"
      ],
      "metadata": {
        "colab": {
          "base_uri": "https://localhost:8080/"
        },
        "id": "6HB4aUscMG5I",
        "outputId": "3ad646fd-b7f5-4d79-bf88-2c40a931ccd9"
      },
      "execution_count": 10,
      "outputs": [
        {
          "output_type": "stream",
          "name": "stdout",
          "text": [
            "01_double_it\n",
            "Enter a number: 7\n",
            "14\n",
            "28\n",
            "56\n",
            "112\n"
          ]
        }
      ]
    },
    {
      "cell_type": "markdown",
      "source": [
        "# 02_liftoff"
      ],
      "metadata": {
        "id": "SrkLDeh0M7XS"
      }
    },
    {
      "cell_type": "code",
      "source": [
        "print(\"02_liftoff\")\n",
        "\n",
        "def main():\n",
        "  for i in range(10,0,-1):\n",
        "    print(i,end = \" \")\n",
        "  print(\"Liftoff!\")\n",
        "\n",
        "if __name__ == \"__main__\":\n",
        "  main()"
      ],
      "metadata": {
        "colab": {
          "base_uri": "https://localhost:8080/"
        },
        "id": "0odB64UqM-b4",
        "outputId": "8670ae06-bc4f-48e1-ec95-e4d530a49c61"
      },
      "execution_count": 11,
      "outputs": [
        {
          "output_type": "stream",
          "name": "stdout",
          "text": [
            "02_liftoff\n",
            "10 9 8 7 6 5 4 3 2 1 Liftoff!\n"
          ]
        }
      ]
    },
    {
      "cell_type": "markdown",
      "source": [
        "# 03_guess_my_number"
      ],
      "metadata": {
        "id": "TL9yzUOINguI"
      }
    },
    {
      "cell_type": "code",
      "source": [
        "print(\"03_guess_my_number\")\n",
        "import random\n",
        "\n",
        "def main():\n",
        "  secret_number = random.randint(1,100)\n",
        "  print(\"I am thinking of a number between 1 and 100....\")\n",
        "\n",
        "  guess = int(input(\"Enter a guess: \"))\n",
        "\n",
        "  while guess != secret_number:\n",
        "    if guess < secret_number:\n",
        "      print(\"Your guess is too low.\")\n",
        "    else:\n",
        "      print(\"Your guess is too high.\")\n",
        "    guess = int(input(\"Enter a guess: \"))\n",
        "\n",
        "  print(f\"Congratulation! The number was {secret_number}\")\n",
        "\n",
        "\n",
        "if __name__ == \"__main__\":\n",
        "  main()"
      ],
      "metadata": {
        "colab": {
          "base_uri": "https://localhost:8080/"
        },
        "id": "iT3ITEC3NXyp",
        "outputId": "73757efc-b59b-4403-bd46-719fa9fafe32"
      },
      "execution_count": 12,
      "outputs": [
        {
          "output_type": "stream",
          "name": "stdout",
          "text": [
            "03_guess_my_number\n",
            "I am thinking of a number between 1 and 100....\n",
            "Enter a guess: 29\n",
            "Your guess is too high.\n",
            "Enter a guess: 28\n",
            "Your guess is too high.\n",
            "Enter a guess: 20\n",
            "Your guess is too high.\n",
            "Enter a guess: 19\n",
            "Your guess is too high.\n",
            "Enter a guess: 17\n",
            "Your guess is too high.\n",
            "Enter a guess: 15\n",
            "Congratulation! The number was 15\n"
          ]
        }
      ]
    },
    {
      "cell_type": "markdown",
      "source": [
        "# 04_random_numbers"
      ],
      "metadata": {
        "id": "tfTcQnFCNxjQ"
      }
    },
    {
      "cell_type": "code",
      "source": [
        "print(\"04_random_numbers\")\n",
        "\n",
        "import random\n",
        "\n",
        "N_NUMBERS : int = 10\n",
        "MIN_VALUE : int = 1\n",
        "MAX_VALUE : int = 100\n",
        "\n",
        "def main():\n",
        "  for i in range(N_NUMBERS):\n",
        "    num:list[int] =  random.randint(MIN_VALUE, MAX_VALUE)\n",
        "    print(num)\n",
        "\n",
        "if __name__ == \"__main__\":\n",
        "  main()"
      ],
      "metadata": {
        "colab": {
          "base_uri": "https://localhost:8080/"
        },
        "id": "Jb6zhjKjN0S4",
        "outputId": "4cd88dd5-0be1-49c1-cf8e-55ff54866019"
      },
      "execution_count": 13,
      "outputs": [
        {
          "output_type": "stream",
          "name": "stdout",
          "text": [
            "04_random_numbers\n",
            "54\n",
            "11\n",
            "37\n",
            "73\n",
            "58\n",
            "75\n",
            "15\n",
            "22\n",
            "96\n",
            "3\n"
          ]
        }
      ]
    }
  ]
}