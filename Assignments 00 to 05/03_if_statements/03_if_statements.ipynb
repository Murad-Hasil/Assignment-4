{
  "nbformat": 4,
  "nbformat_minor": 0,
  "metadata": {
    "colab": {
      "provenance": []
    },
    "kernelspec": {
      "name": "python3",
      "display_name": "Python 3"
    },
    "language_info": {
      "name": "python"
    }
  },
  "cells": [
    {
      "cell_type": "markdown",
      "source": [
        "# 01_print_events"
      ],
      "metadata": {
        "id": "VwjNuuFRUYsE"
      }
    },
    {
      "cell_type": "code",
      "execution_count": null,
      "metadata": {
        "colab": {
          "base_uri": "https://localhost:8080/"
        },
        "id": "G_hhIl5Dl9x6",
        "outputId": "bfd2ceca-8073-49f4-94e7-92bfa0f6d81a"
      },
      "outputs": [
        {
          "output_type": "stream",
          "name": "stdout",
          "text": [
            "01_print_events\n",
            "0\n",
            "2\n",
            "4\n",
            "6\n",
            "8\n",
            "10\n",
            "12\n",
            "14\n",
            "16\n",
            "18\n",
            "20\n",
            "22\n",
            "24\n",
            "26\n",
            "28\n",
            "30\n",
            "32\n",
            "34\n",
            "36\n",
            "38\n"
          ]
        }
      ],
      "source": [
        "print(\"01_print_events\")\n",
        "\n",
        "def even():\n",
        "\n",
        "  for i in range(20):\n",
        "   print(i * 2)\n",
        "\n",
        "if __name__ == \"__main__\":\n",
        "  even()"
      ]
    },
    {
      "cell_type": "markdown",
      "source": [],
      "metadata": {
        "id": "fNgaqP6PUV_m"
      }
    },
    {
      "cell_type": "markdown",
      "source": [
        "# 02_international_voting_age"
      ],
      "metadata": {
        "id": "FJGdeCY0UgSN"
      }
    },
    {
      "cell_type": "code",
      "source": [
        "print(\"02_international_voting_age\")\n",
        "\n",
        "PETURKSBOUIPO_AGE : int = 16\n",
        "STANLAU_AGE : int = 25\n",
        "MAYENGUA_AGE : int = 48\n",
        "user_age : int = int(input(\"How old are you?\"))\n",
        "\n",
        "def main():\n",
        "  if user_age >= PETURKSBOUIPO_AGE:\n",
        "    print(\"You can vote in Peturksbouipo where the voting age is \" + str(PETURKSBOUIPO_AGE) + \".\")\n",
        "  else:\n",
        "    print(\"You cannot vote in Peturksbouipo where the voting age is \" + str(PETURKSBOUIPO_AGE) + \".\")\n",
        "\n",
        "\n",
        "  if user_age >= STANLAU_AGE:\n",
        "    print(\"You can vote in Stanlau where the voting age is \" + str(STANLAU_AGE) + \".\")\n",
        "  else:\n",
        "    print(\"You cannot vote in Stanlau where the voting age is \" + str(STANLAU_AGE) + \".\")\n",
        "\n",
        "\n",
        "  if user_age >= MAYENGUA_AGE:\n",
        "    print(\"You can vote in Mayengua where the voting age is \" + str(MAYENGUA_AGE) + \".\")\n",
        "  else:\n",
        "    print(\"You cannot vote in Mayengua where the voting age is \" + str(MAYENGUA_AGE) + \".\")\n",
        "\n",
        "if __name__ == \"__main__\":\n",
        "  main()"
      ],
      "metadata": {
        "colab": {
          "base_uri": "https://localhost:8080/"
        },
        "id": "yJH0Z7lZuZl-",
        "outputId": "26ce5ccd-6ddf-4781-f82e-2fb5d31eded4"
      },
      "execution_count": null,
      "outputs": [
        {
          "output_type": "stream",
          "name": "stdout",
          "text": [
            "02_international_voting_age\n",
            "How old are you?29\n",
            "You can vote in Peturksbouipo where the voting age is 16.\n",
            "You can vote in Stanlau where the voting age is 25.\n",
            "You cannot vote in Mayengua where the voting age is 48.\n"
          ]
        }
      ]
    },
    {
      "cell_type": "markdown",
      "source": [
        "# 03_leap_year"
      ],
      "metadata": {
        "id": "5EiDcQzgUlIk"
      }
    },
    {
      "cell_type": "code",
      "source": [
        "print(\"03_leap_year\")\n",
        "\n",
        "def leap_year():\n",
        "  year = int(input(\"Enter a year: \"))\n",
        "  if year % 4 == 0:\n",
        "    if year % 100 == 0:\n",
        "      if year % 400 == 0:\n",
        "        print(f'{year} is a leap year!')\n",
        "      else:\n",
        "        print(f'{year} is not a leap year.')\n",
        "    else:\n",
        "      print(f'{year} is a leap year!')\n",
        "  else:\n",
        "    print(f'{year} is not a leap year.')\n",
        "\n",
        "if __name__ == \"__main__\":\n",
        "  leap_year()"
      ],
      "metadata": {
        "colab": {
          "base_uri": "https://localhost:8080/"
        },
        "id": "LIl_9VbXutEM",
        "outputId": "13233bf9-c2cf-43ab-dcbd-bdc09d7a73cc"
      },
      "execution_count": null,
      "outputs": [
        {
          "output_type": "stream",
          "name": "stdout",
          "text": [
            "03_leap_year\n",
            "Enter a year: 2000\n",
            "2000 is a leap year!\n"
          ]
        }
      ]
    },
    {
      "cell_type": "markdown",
      "source": [
        "# 04_tall_enough_to_ride"
      ],
      "metadata": {
        "id": "ETqJEJOPUqHc"
      }
    },
    {
      "cell_type": "code",
      "source": [
        "print(\"04_tall_enough_to_ride\")\n",
        "\n",
        "min_height : int = 50\n",
        "\n",
        "def main():\n",
        "  height : float = float(input(\"How tall are you? \"))\n",
        "  if height >= min_height:\n",
        "    print(\"You're tall enough to ride!\")\n",
        "  else:\n",
        "    print(\"You're not tall enough to ride, but maybe next year!\")\n",
        "\n",
        "if __name__ == \"__main__\":\n",
        "  main()"
      ],
      "metadata": {
        "colab": {
          "base_uri": "https://localhost:8080/"
        },
        "id": "1_364hwdx3d_",
        "outputId": "e16589f1-6ec3-46ca-b2c0-37fc0dc2edc3"
      },
      "execution_count": null,
      "outputs": [
        {
          "output_type": "stream",
          "name": "stdout",
          "text": [
            "04_tall_enough_to_ride\n",
            "How tall are you? 5.6\n",
            "You're not tall enough to ride, but maybe next year!\n"
          ]
        }
      ]
    },
    {
      "cell_type": "markdown",
      "source": [
        "# 05_random_numbers"
      ],
      "metadata": {
        "id": "fyxgcIbHUuQr"
      }
    },
    {
      "cell_type": "code",
      "source": [
        "print(\"05_random_numbers\")\n",
        "\n",
        "import random\n",
        "\n",
        "N_NUMBERS : int = 10\n",
        "MIN_VALUE : int = 1\n",
        "MAX_VALUE : int = 100\n",
        "\n",
        "def main():\n",
        "  for i in range(N_NUMBERS):\n",
        "    num:list[int] =  random.randint(MIN_VALUE, MAX_VALUE)\n",
        "    print(num)\n",
        "\n",
        "if __name__ == \"__main__\":\n",
        "  main()"
      ],
      "metadata": {
        "colab": {
          "base_uri": "https://localhost:8080/"
        },
        "id": "m7Uu7lhf0lfQ",
        "outputId": "5bbf4fae-23ef-414d-b095-b5bf77550b09"
      },
      "execution_count": null,
      "outputs": [
        {
          "output_type": "stream",
          "name": "stdout",
          "text": [
            "05_random_numbers\n",
            "93\n",
            "47\n",
            "67\n",
            "26\n",
            "11\n",
            "32\n",
            "77\n",
            "23\n",
            "90\n",
            "19\n"
          ]
        }
      ]
    }
  ]
}