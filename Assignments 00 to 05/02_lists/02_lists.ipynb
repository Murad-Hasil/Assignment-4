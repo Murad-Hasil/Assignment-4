{
  "nbformat": 4,
  "nbformat_minor": 0,
  "metadata": {
    "colab": {
      "provenance": []
    },
    "kernelspec": {
      "name": "python3",
      "display_name": "Python 3"
    },
    "language_info": {
      "name": "python"
    }
  },
  "cells": [
    {
      "cell_type": "markdown",
      "source": [
        "# 01_add_many_number"
      ],
      "metadata": {
        "id": "0F3j2AAjTm_2"
      }
    },
    {
      "cell_type": "code",
      "execution_count": null,
      "metadata": {
        "colab": {
          "base_uri": "https://localhost:8080/"
        },
        "id": "Akk7Jim_Eywj",
        "outputId": "3dfd6288-d09c-4718-a4c4-6aed06731350"
      },
      "outputs": [
        {
          "output_type": "stream",
          "name": "stdout",
          "text": [
            "01_add_many_number\n",
            "15\n"
          ]
        }
      ],
      "source": [
        "print(\"01_add_many_number\")\n",
        "\n",
        "\n",
        "def add_many_numbers(numbers)-> int:\n",
        "  num : int = 0\n",
        "  for i in numbers:\n",
        "    num += i\n",
        "  return num\n",
        "\n",
        "\n",
        "def main():\n",
        "    numbers : list[int] = [1, 2, 3, 4, 5,]\n",
        "    sum = add_many_numbers(numbers)\n",
        "    print(sum)\n",
        "\n",
        "if __name__ == '__main__':\n",
        "    main()"
      ]
    },
    {
      "cell_type": "markdown",
      "source": [
        "# 02_double_list"
      ],
      "metadata": {
        "id": "4JavwFeBTsg0"
      }
    },
    {
      "cell_type": "code",
      "source": [
        "print(\"02_double_list\")\n",
        "\n",
        "def main():\n",
        "  numbers : list[int] = [1, 2, 3, 4, 5]\n",
        "  for i in range(len(numbers)):\n",
        "    index = numbers[i]\n",
        "    numbers[i] = index * 2\n",
        "  print(numbers)\n",
        "\n",
        "if __name__ == '__main__':\n",
        "  main()"
      ],
      "metadata": {
        "colab": {
          "base_uri": "https://localhost:8080/"
        },
        "id": "YLMmRdS9NqrL",
        "outputId": "7483f590-309e-4b42-ac55-de731076e43e"
      },
      "execution_count": null,
      "outputs": [
        {
          "output_type": "stream",
          "name": "stdout",
          "text": [
            "02_double_list\n",
            "[2, 4, 6, 8, 10]\n"
          ]
        }
      ]
    },
    {
      "cell_type": "markdown",
      "source": [
        "# 04_flowing_with_data_structures"
      ],
      "metadata": {
        "id": "-atnHPXSTzqz"
      }
    },
    {
      "cell_type": "code",
      "source": [
        "print(\"04_flowing_with_data_structures\")\n",
        "\n",
        "def add_three_copies(list, data):\n",
        "    for i in range(3):\n",
        "      list.append(data)\n",
        "\n",
        "def main():\n",
        "  message = input(\"Enter a message to copy: \")\n",
        "  list = []\n",
        "  print(\"List Before: \", list)\n",
        "  add_three_copies(list, message)\n",
        "  print(\"List After: \", list)\n",
        "\n",
        "if __name__ == \"__main__\":\n",
        "    main()"
      ],
      "metadata": {
        "colab": {
          "base_uri": "https://localhost:8080/"
        },
        "id": "7w53Ke3AsA9r",
        "outputId": "730ae645-a456-44eb-9cf8-6908a2139c6e"
      },
      "execution_count": null,
      "outputs": [
        {
          "output_type": "stream",
          "name": "stdout",
          "text": [
            "04_flowing_with_data_structures\n",
            "Enter a message to copy: hellow world\n",
            "List Before:  []\n",
            "List After:  ['hellow world', 'hellow world', 'hellow world']\n"
          ]
        }
      ]
    },
    {
      "cell_type": "markdown",
      "source": [
        "# 05_get_first_element"
      ],
      "metadata": {
        "id": "wVZ4qhN0T4oT"
      }
    },
    {
      "cell_type": "code",
      "source": [
        "print(\"05_get_first_element\")\n",
        "\n",
        "def get_first_element(lst):\n",
        "  print(lst[0])\n",
        "\n",
        "def get_lst():\n",
        "  lst = []\n",
        "  elem :str = input(\"Please enter an element of the list or press enter to stop. \")\n",
        "  while elem != \"\":\n",
        "    lst.append(elem)\n",
        "    elem = input(\"Please enter an element of the list or press enter to stop. \")\n",
        "  return lst\n",
        "\n",
        "def main():\n",
        "  lst = get_lst()\n",
        "  get_first_element(lst)\n",
        "\n",
        "if __name__ == \"__main__\":\n",
        "    main()"
      ],
      "metadata": {
        "colab": {
          "base_uri": "https://localhost:8080/"
        },
        "id": "jQngVcPEvSyV",
        "outputId": "01806cf4-35b5-4fe8-b3b5-e8d68d8b5179"
      },
      "execution_count": null,
      "outputs": [
        {
          "output_type": "stream",
          "name": "stdout",
          "text": [
            "05_get_first_element\n",
            "Please enter an element of the list or press enter to stop. a\n",
            "Please enter an element of the list or press enter to stop. s\n",
            "Please enter an element of the list or press enter to stop. d\n",
            "Please enter an element of the list or press enter to stop. f\n",
            "Please enter an element of the list or press enter to stop. g\n",
            "Please enter an element of the list or press enter to stop. \n",
            "a\n"
          ]
        }
      ]
    },
    {
      "cell_type": "markdown",
      "source": [
        "# 06_get_last_element."
      ],
      "metadata": {
        "id": "wCpm7GM9T-c0"
      }
    },
    {
      "cell_type": "code",
      "source": [
        "print(\"06_get_last_element.\")\n",
        "\n",
        "def get_last_element(lst):\n",
        "  print(lst[-1])\n",
        "\n",
        "def get_lst():\n",
        "  lst = [1, 2, 3, 4, 5]\n",
        "  get_last_element(lst)\n",
        "\n",
        "if __name__ == \"__main__\":\n",
        "  get_lst()"
      ],
      "metadata": {
        "colab": {
          "base_uri": "https://localhost:8080/"
        },
        "id": "8X6suk03x3yV",
        "outputId": "99b18d18-e445-4aa6-8a07-c9d7fe998d28"
      },
      "execution_count": null,
      "outputs": [
        {
          "output_type": "stream",
          "name": "stdout",
          "text": [
            "06_get_last_element.\n",
            "5\n"
          ]
        }
      ]
    },
    {
      "cell_type": "markdown",
      "source": [
        "# 07_get_list"
      ],
      "metadata": {
        "id": "s2wNE366UCIs"
      }
    },
    {
      "cell_type": "code",
      "source": [
        "print(\"07_get_list\")\n",
        "\n",
        "def main():\n",
        "  lst = []\n",
        "  val = input(\"Please enter a value: \")\n",
        "  while val:\n",
        "    lst.append(val)\n",
        "    val = input(\"Please enter a value: \")\n",
        "  print(\"Here's the list: \", lst)\n",
        "\n",
        "if __name__ == \"__main__\":\n",
        "  main()"
      ],
      "metadata": {
        "colab": {
          "base_uri": "https://localhost:8080/"
        },
        "id": "JUqk7FHIDGDo",
        "outputId": "ba623f54-e706-4e65-cee6-a9ba4dcf5f4d"
      },
      "execution_count": null,
      "outputs": [
        {
          "output_type": "stream",
          "name": "stdout",
          "text": [
            "07_get_list\n",
            "Please enter a value: 1\n",
            "Please enter a value: a\n",
            "Please enter a value: s\n",
            "Please enter a value: 2\n",
            "Please enter a value: 3\n",
            "Please enter a value: 4\n",
            "Please enter a value: 5\n",
            "Please enter a value: \n",
            "Here's the list:  ['1', 'a', 's', '2', '3', '4', '5']\n"
          ]
        }
      ]
    },
    {
      "cell_type": "markdown",
      "source": [
        "# 08_shorten"
      ],
      "metadata": {
        "id": "rFEaGgPRUGik"
      }
    },
    {
      "cell_type": "code",
      "source": [
        "print(\"08_shorten\")\n",
        "\n",
        "MAX_LENGTH : int = 3\n",
        "def shorten(lst):\n",
        "  while len(lst) > MAX_LENGTH:\n",
        "    lst_element = lst.pop()\n",
        "    print(lst_element)\n",
        "\n",
        "def get_lst():\n",
        "  lst = []\n",
        "  element = input(\"Please enter an element of the list or press enter to stop. \")\n",
        "  while element != \"\":\n",
        "    lst.append(element)\n",
        "    element = input(\"Please enter an element of the list or press enter to stop. \")\n",
        "  return lst\n",
        "\n",
        "def main():\n",
        "  lst = get_lst()\n",
        "  shorten(lst)\n",
        "\n",
        "if __name__ == \"__main__\":\n",
        "  main()"
      ],
      "metadata": {
        "colab": {
          "base_uri": "https://localhost:8080/"
        },
        "id": "3VMrQdHpLRJh",
        "outputId": "cf4f36d7-0ee2-46eb-ca2e-8cab64792627"
      },
      "execution_count": null,
      "outputs": [
        {
          "output_type": "stream",
          "name": "stdout",
          "text": [
            "08_shorten\n",
            "Please enter an element of the list or press enter to stop. djndjnd\n",
            "Please enter an element of the list or press enter to stop. djndjnd\n",
            "Please enter an element of the list or press enter to stop. djdnjnd\n",
            "Please enter an element of the list or press enter to stop. djdnjd\n",
            "Please enter an element of the list or press enter to stop. jdnjnd\n",
            "Please enter an element of the list or press enter to stop. jdnjnd\n",
            "Please enter an element of the list or press enter to stop. djnd\n",
            "Please enter an element of the list or press enter to stop. \n",
            "djnd\n",
            "jdnjnd\n",
            "jdnjnd\n",
            "djdnjd\n"
          ]
        }
      ]
    }
  ]
}