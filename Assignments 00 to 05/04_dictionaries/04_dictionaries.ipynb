{
  "nbformat": 4,
  "nbformat_minor": 0,
  "metadata": {
    "colab": {
      "provenance": []
    },
    "kernelspec": {
      "name": "python3",
      "display_name": "Python 3"
    },
    "language_info": {
      "name": "python"
    }
  },
  "cells": [
    {
      "cell_type": "markdown",
      "source": [
        "# 00_count_nums"
      ],
      "metadata": {
        "id": "pS16DoLvXEM_"
      }
    },
    {
      "cell_type": "code",
      "source": [
        "print(\"00_count_nums\")\n",
        "\n",
        "def get_user_numbers():\n",
        "\n",
        "  user_numbers = []\n",
        "  while True:\n",
        "    user_input = input(\"Enter a number: \")\n",
        "\n",
        "    if user_input == \"\":\n",
        "        break\n",
        "    num = int(user_input)\n",
        "    user_numbers.append(num)\n",
        "  return user_numbers\n",
        "\n",
        "def count_nums(num_lst):\n",
        "  num_dict = {}\n",
        "  for num in num_lst:\n",
        "    if num not in num_dict:\n",
        "      num_dict[num] = 1\n",
        "    else:\n",
        "      num_dict[num] += 1\n",
        "  return num_dict\n",
        "\n",
        "def print_counts(num_dict):\n",
        "  for num in num_dict:\n",
        "      print(str(num) + \" appears \" + str(num_dict[num]) + \" times.\")\n",
        "\n",
        "def main():\n",
        "  user_numbers = get_user_numbers()\n",
        "  num_dict = count_nums(user_numbers)\n",
        "  print_counts(num_dict)\n",
        "\n",
        "if __name__ == '__main__':\n",
        "    main()"
      ],
      "metadata": {
        "id": "jvQiO_qh4tFC",
        "colab": {
          "base_uri": "https://localhost:8080/"
        },
        "outputId": "35c7af6a-b8e9-4631-e79b-1055421e1a56"
      },
      "execution_count": null,
      "outputs": [
        {
          "output_type": "stream",
          "name": "stdout",
          "text": [
            "00_count_nums\n",
            "Enter a number: 1\n",
            "Enter a number: 1\n",
            "Enter a number: 2\n",
            "Enter a number: \n",
            "1 appears 2 times.\n",
            "2 appears 1 times.\n"
          ]
        }
      ]
    },
    {
      "cell_type": "markdown",
      "source": [
        "# 01_phonebook"
      ],
      "metadata": {
        "id": "wDA1Nv55XLTl"
      }
    },
    {
      "cell_type": "code",
      "source": [
        "print(\"01_phonebook\")\n",
        "\n",
        "def read_phone_numbers():\n",
        "  phonebook = {}\n",
        "\n",
        "  while True:\n",
        "    name = input(\"Name: \")\n",
        "    if name == \"\":\n",
        "        break\n",
        "    number = input(\"Number: \")\n",
        "    phonebook[name] = number\n",
        "  return phonebook\n",
        "\n",
        "def print_phonebook(phonebook):\n",
        "  for name in phonebook:\n",
        "      print(str(name) + \" -> \" + str(phonebook[name]))\n",
        "\n",
        "def lookup_numbers(phonebook):\n",
        "  while True:\n",
        "      name = input(\"Enter name to look up: \")\n",
        "      if name == \"\":\n",
        "          break\n",
        "      if name not in phonebook:\n",
        "          print(name + \" is not in the phonebook.\")\n",
        "      else:\n",
        "          print(phonebook[name])\n",
        "\n",
        "def main():\n",
        "    phonebook = read_phone_numbers()\n",
        "    print_phonebook(phonebook)\n",
        "    lookup_numbers(phonebook)\n",
        "\n",
        "if __name__ == \"__main__\":\n",
        "  main()"
      ],
      "metadata": {
        "id": "9HJUwUMDoUL-",
        "colab": {
          "base_uri": "https://localhost:8080/"
        },
        "outputId": "58a04840-cf56-4249-ab45-a5e7cb034c94"
      },
      "execution_count": null,
      "outputs": [
        {
          "name": "stdout",
          "output_type": "stream",
          "text": [
            "01_phonebook\n",
            "Name: murad\n",
            "Number: 03142241393\n",
            "Name: \n",
            "murad -> 03142241393\n",
            "Enter name to look up: murad\n",
            "03142241393\n",
            "Enter name to look up: \n"
          ]
        }
      ]
    },
    {
      "cell_type": "markdown",
      "source": [
        "# 02_pop_up_shop"
      ],
      "metadata": {
        "id": "7oXwrK4XXP_F"
      }
    },
    {
      "cell_type": "code",
      "source": [
        "print(\"02_pop_up_shop\")\n",
        "\n",
        "def fruits_store():\n",
        "  fruits = {\n",
        "      'apple': 1.2,\n",
        "      'mango': 12.0,\n",
        "      'durain': 50,\n",
        "      'kiwi': 1,\n",
        "      'banana': 10,\n",
        "      'orange': 1\n",
        "  }\n",
        "\n",
        "  total_cost = 0\n",
        "  for fruit_name in fruits:\n",
        "      price = fruits[fruit_name]\n",
        "      amount_bought = int(input(\"How many \" + fruit_name + \" do you want to buy? \"))\n",
        "      total_cost += (price * amount_bought)\n",
        "  print(\"Total cost: \" + str(total_cost))\n",
        "\n",
        "if __name__ == \"__main__\":\n",
        "  fruits_store()"
      ],
      "metadata": {
        "colab": {
          "base_uri": "https://localhost:8080/"
        },
        "id": "DeBQdJIdu1Im",
        "outputId": "65ae714c-6172-40bb-e3a8-aa541171a362"
      },
      "execution_count": null,
      "outputs": [
        {
          "output_type": "stream",
          "name": "stdout",
          "text": [
            "02_pop_up_shop\n",
            "How many apple do you want to buy? 2\n",
            "How many mango do you want to buy? 2\n",
            "How many durain do you want to buy? 1\n",
            "How many kiwi do you want to buy? 2\n",
            "How many banana do you want to buy? 12\n",
            "How many orange do you want to buy? 12\n",
            "Total cost: 210.4\n"
          ]
        }
      ]
    },
    {
      "cell_type": "markdown",
      "source": [
        "# 03_powerful_passwords"
      ],
      "metadata": {
        "id": "6FZnPB-qXVJF"
      }
    },
    {
      "cell_type": "code",
      "source": [
        "print(\"03_powerful_passwords\")\n",
        "\n",
        "import hashlib\n",
        "from hashlib import sha256\n",
        "\n",
        "def hash_password(password):\n",
        "  return hashlib.sha256(password.encode()).hexdigest()\n",
        "\n",
        "stored_logins = {\n",
        "    \"user@example.com\":hash_password(\"password123\"),\n",
        "    \"admin@example.com\":hash_password(\"adminpass\")\n",
        "}\n",
        "\n",
        "def login(email,password):\n",
        "  if email in stored_logins:\n",
        "    return stored_logins[email] == hash_password(password)\n",
        "  return False\n",
        "\n",
        "if __name__ == \"__main__\":\n",
        "  email = input(\"Enter your email: \")\n",
        "  password = input(\"Enter your password: \")\n",
        "\n",
        "\n",
        "  if login(email,password):\n",
        "    print(\"Login successful!\")\n",
        "  else:\n",
        "    print(\"Invalid email or password.\")"
      ],
      "metadata": {
        "colab": {
          "base_uri": "https://localhost:8080/"
        },
        "id": "9ZZegX3g0J2-",
        "outputId": "92001ad5-6be0-48c3-b197-42c35bbc0f52"
      },
      "execution_count": null,
      "outputs": [
        {
          "output_type": "stream",
          "name": "stdout",
          "text": [
            "03_powerful_passwords\n",
            "Enter your email: admin@example.com\n",
            "Enter your password: adminpass\n",
            "Login successful!\n"
          ]
        }
      ]
    }
  ]
}