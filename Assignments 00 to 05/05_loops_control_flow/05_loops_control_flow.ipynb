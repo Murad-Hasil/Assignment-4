{
  "nbformat": 4,
  "nbformat_minor": 0,
  "metadata": {
    "colab": {
      "provenance": []
    },
    "kernelspec": {
      "name": "python3",
      "display_name": "Python 3"
    },
    "language_info": {
      "name": "python"
    }
  },
  "cells": [
    {
      "cell_type": "markdown",
      "source": [
        "## **00_guess_my_number**"
      ],
      "metadata": {
        "id": "CrHsV1M4X3vf"
      }
    },
    {
      "cell_type": "code",
      "execution_count": null,
      "metadata": {
        "id": "Jn2oYItBaOtZ",
        "colab": {
          "base_uri": "https://localhost:8080/"
        },
        "outputId": "9650ee49-c3a9-4b32-edd9-8dd10ed03080"
      },
      "outputs": [
        {
          "output_type": "stream",
          "name": "stdout",
          "text": [
            "00_guess_my_number.\n",
            "I am thinking of a number between 1 and 100....\n",
            "Enter a guess: 32\n",
            "Your guess is too high.\n",
            "Enter a guess: 31\n",
            "Your guess is too high.\n",
            "Enter a guess: 30\n",
            "Your guess is too high.\n",
            "Enter a guess: 29\n",
            "Your guess is too high.\n",
            "Enter a guess: 28\n",
            "Your guess is too high.\n",
            "Enter a guess: 27\n",
            "Your guess is too high.\n",
            "Enter a guess: 26\n",
            "Your guess is too high.\n",
            "Enter a guess: 25\n",
            "Your guess is too high.\n",
            "Enter a guess: 24\n",
            "Your guess is too high.\n",
            "Enter a guess: 23\n",
            "Your guess is too high.\n",
            "Enter a guess: 22\n",
            "Your guess is too high.\n",
            "Enter a guess: 21\n",
            "Congratulation! The number was 21\n"
          ]
        }
      ],
      "source": [
        "print(\"00_guess_my_number.\")\n",
        "import random\n",
        "\n",
        "def main():\n",
        "  secret_number = random.randint(1,100)\n",
        "  print(\"I am thinking of a number between 1 and 100....\")\n",
        "\n",
        "  guess = int(input(\"Enter a guess: \"))\n",
        "\n",
        "  while guess != secret_number:\n",
        "    if guess < secret_number:\n",
        "      print(\"Your guess is too low.\")\n",
        "    else:\n",
        "      print(\"Your guess is too high.\")\n",
        "    guess = int(input(\"Enter a guess: \"))\n",
        "\n",
        "  print(f\"Congratulation! The number was {secret_number}\")\n",
        "\n",
        "\n",
        "if __name__ == \"__main__\":\n",
        "  main()"
      ]
    },
    {
      "cell_type": "markdown",
      "source": [
        "# 01_fibonacci"
      ],
      "metadata": {
        "id": "Dw5JRrz1Zpse"
      }
    },
    {
      "cell_type": "code",
      "source": [
        "print(\"01_fibonacci\")\n",
        "\n",
        "MAX_TERM_VALUE : int = 10000\n",
        "\n",
        "def main():\n",
        "  curr_term = 0\n",
        "  next_term = 1\n",
        "  while curr_term < MAX_TERM_VALUE:\n",
        "    print(curr_term)\n",
        "    term_after_next = curr_term + next_term\n",
        "    curr_term = next_term\n",
        "    next_term = term_after_next\n",
        "\n",
        "if __name__ == \"__main__\":\n",
        "  main()"
      ],
      "metadata": {
        "colab": {
          "base_uri": "https://localhost:8080/"
        },
        "id": "p6XCFplsZtIu",
        "outputId": "8186601b-2d6d-4c83-c988-753f6247d1ff"
      },
      "execution_count": null,
      "outputs": [
        {
          "output_type": "stream",
          "name": "stdout",
          "text": [
            "01_fibonacci\n",
            "0\n",
            "1\n",
            "1\n",
            "2\n",
            "3\n",
            "5\n",
            "8\n",
            "13\n",
            "21\n",
            "34\n",
            "55\n",
            "89\n",
            "144\n",
            "233\n",
            "377\n",
            "610\n",
            "987\n",
            "1597\n",
            "2584\n",
            "4181\n",
            "6765\n"
          ]
        }
      ]
    },
    {
      "cell_type": "markdown",
      "source": [
        "# 02_print_events"
      ],
      "metadata": {
        "id": "4t3ppCGwb17G"
      }
    },
    {
      "cell_type": "code",
      "source": [
        "print(\"02_print_events\")\n",
        "\n",
        "def main():\n",
        "  for i in range(20):\n",
        "    print(i * 2)\n",
        "\n",
        "if __name__ == \"__main__\":\n",
        "  main()"
      ],
      "metadata": {
        "colab": {
          "base_uri": "https://localhost:8080/"
        },
        "id": "PCJ870zRbzAg",
        "outputId": "655a9f45-0a3f-493e-8bd8-bb679caeba84"
      },
      "execution_count": null,
      "outputs": [
        {
          "output_type": "stream",
          "name": "stdout",
          "text": [
            "02_print_events\n",
            "0\n",
            "2\n",
            "4\n",
            "6\n",
            "8\n",
            "10\n",
            "12\n",
            "14\n",
            "16\n",
            "18\n",
            "20\n",
            "22\n",
            "24\n",
            "26\n",
            "28\n",
            "30\n",
            "32\n",
            "34\n",
            "36\n",
            "38\n"
          ]
        }
      ]
    },
    {
      "cell_type": "markdown",
      "source": [
        "# 03_wholesome_machine"
      ],
      "metadata": {
        "id": "Rw8cyGR3cmBO"
      }
    },
    {
      "cell_type": "code",
      "source": [
        "print(\"03_wholesome_machine\")\n",
        "\n",
        "correct_affermation = \"I am capable of doing anything. I put my mind too.\"\n",
        "\n",
        "def main():\n",
        "  print(\"Welcome to the Wholesome Machine\")\n",
        "  while True:\n",
        "    user_input = input(\"Please type the following affermation:\" + correct_affermation)\n",
        "    if user_input == correct_affermation:\n",
        "      print(\"That\\'s right! \")\n",
        "      break\n",
        "    else:\n",
        "      print(\"Hmmm That was not the affermation. Please Try Again!\")\n",
        "\n",
        "if __name__ == \"__main__\":\n",
        "  main()"
      ],
      "metadata": {
        "colab": {
          "base_uri": "https://localhost:8080/"
        },
        "id": "VD7qnzcxcfqI",
        "outputId": "aa265c10-f2d1-4bfd-bdb4-84f2868e0412"
      },
      "execution_count": null,
      "outputs": [
        {
          "output_type": "stream",
          "name": "stdout",
          "text": [
            "03_wholesome_machine\n",
            "Welcome to the Wholesome Machine\n",
            "Please type the following affermation:I am capable of doing anything. I put my mind too.Got it\n",
            "Hmmm That was not the affermation. Please Try Again!\n",
            "Please type the following affermation:I am capable of doing anything. I put my mind too.I am capable of doing anything.\n",
            "Hmmm That was not the affermation. Please Try Again!\n",
            "Please type the following affermation:I am capable of doing anything. I put my mind too.I am capable of doing anything. I put my mind too.\n",
            "That's right! \n"
          ]
        }
      ]
    },
    {
      "cell_type": "markdown",
      "source": [
        "# 04_liftoff"
      ],
      "metadata": {
        "id": "p-nP1wtkfYtP"
      }
    },
    {
      "cell_type": "code",
      "source": [
        "print(\"04_liftoff\")\n",
        "\n",
        "def main():\n",
        "  for i in range(10,0,-1):\n",
        "    print(i,end = \" \")\n",
        "  print(\"Liftoff!\")\n",
        "\n",
        "if __name__ == \"__main__\":\n",
        "  main()"
      ],
      "metadata": {
        "colab": {
          "base_uri": "https://localhost:8080/"
        },
        "id": "6abeEpGEfV4x",
        "outputId": "65e01481-8cf5-4d50-9212-24a8d0180667"
      },
      "execution_count": null,
      "outputs": [
        {
          "output_type": "stream",
          "name": "stdout",
          "text": [
            "04_liftoff\n",
            "10 9 8 7 6 5 4 3 2 1 Liftoff!\n"
          ]
        }
      ]
    },
    {
      "cell_type": "markdown",
      "source": [
        "# 05_double_it"
      ],
      "metadata": {
        "id": "eOrG36Tggx5v"
      }
    },
    {
      "cell_type": "code",
      "source": [
        "print(\"05_double_it\")\n",
        "\n",
        "def main():\n",
        "  user_value = int(input(\"Please enter a number: \"))\n",
        "  while user_value < 100:\n",
        "    user_value = user_value * 2\n",
        "    print(user_value)\n",
        "\n",
        "if __name__ == \"__main__\":\n",
        "  main()"
      ],
      "metadata": {
        "colab": {
          "base_uri": "https://localhost:8080/"
        },
        "id": "QvLnD2Uegw51",
        "outputId": "d458c5f5-486c-4033-e26d-8c3c9a78cb8c"
      },
      "execution_count": null,
      "outputs": [
        {
          "output_type": "stream",
          "name": "stdout",
          "text": [
            "05_double_it\n",
            "Please enter a number: 2\n",
            "4\n",
            "8\n",
            "16\n",
            "32\n",
            "64\n",
            "128\n"
          ]
        }
      ]
    }
  ]
}