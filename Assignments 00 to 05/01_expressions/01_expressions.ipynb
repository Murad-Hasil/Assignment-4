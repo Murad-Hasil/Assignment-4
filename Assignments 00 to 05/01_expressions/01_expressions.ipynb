{
  "nbformat": 4,
  "nbformat_minor": 0,
  "metadata": {
    "colab": {
      "provenance": []
    },
    "kernelspec": {
      "name": "python3",
      "display_name": "Python 3"
    },
    "language_info": {
      "name": "python"
    }
  },
  "cells": [
    {
      "cell_type": "markdown",
      "source": [
        "# 01_dicesimulator"
      ],
      "metadata": {
        "id": "NL08HH2CSxo2"
      }
    },
    {
      "cell_type": "code",
      "source": [
        "print(\"01_dicesimulator\")\n",
        "import random\n",
        "\n",
        "def dice_roller():\n",
        "  dice1 : int = random.randint(1,6)\n",
        "  dice2 : int = random.randint(1,6)\n",
        "  total : int = dice1 + dice2\n",
        "  print(\"Total of two dice:\", total)\n",
        "\n",
        "def main():\n",
        "    dice1 : int = 10\n",
        "    print(\"dice1 in main() starts as: \" + str(dice1))\n",
        "    dice_roller()\n",
        "    dice_roller()\n",
        "    dice_roller()\n",
        "    print(\"dice1 in main() is: \" + str(dice1))\n",
        "\n",
        "if __name__ == \"__main__\":\n",
        "  main()"
      ],
      "metadata": {
        "colab": {
          "base_uri": "https://localhost:8080/"
        },
        "id": "232JSDkuvm7V",
        "outputId": "c918926b-ba93-4f14-9534-6ae149f111ee"
      },
      "execution_count": null,
      "outputs": [
        {
          "output_type": "stream",
          "name": "stdout",
          "text": [
            "01_dicesimulator\n",
            "dice1 in main() starts as: 10\n",
            "Total of two dice: 9\n",
            "Total of two dice: 10\n",
            "Total of two dice: 5\n",
            "dice1 in main() is: 10\n"
          ]
        }
      ]
    },
    {
      "cell_type": "markdown",
      "source": [
        "# 02_e=mc2"
      ],
      "metadata": {
        "id": "XICkjfFeS3EM"
      }
    },
    {
      "cell_type": "code",
      "source": [
        "print(\"02_e=mc2\")\n",
        "\n",
        "def energy():\n",
        "  c : float = 299792458\n",
        "  mass_in_kg : float = float(input(\"Enter kilos of mass: \"))\n",
        "  energy_in_joules : float = mass_in_kg * (c ** 2)\n",
        "  print(\"e = m * C^2...\")\n",
        "  print(\"m = \" + str(mass_in_kg) + \" kg\")\n",
        "  print(\"C = \"+ str(c) + \" m/s\")\n",
        "  print(\"e = \" + str(energy_in_joules) + \" joules of energy!\")\n",
        "\n",
        "if __name__ == \"__main__\":\n",
        "  energy()"
      ],
      "metadata": {
        "colab": {
          "base_uri": "https://localhost:8080/"
        },
        "id": "zNM5YMNh1a4_",
        "outputId": "b4c5eec3-accf-4c81-9bac-ddc58c3d4638"
      },
      "execution_count": null,
      "outputs": [
        {
          "output_type": "stream",
          "name": "stdout",
          "text": [
            "02_e=mc2\n",
            "Enter kilos of mass: 450\n",
            "e = m * C^2...\n",
            "m = 450.0 kg\n",
            "C = 299792458 m/s\n",
            "e = 4.0443983043156795e+19 joules of energy!\n"
          ]
        }
      ]
    },
    {
      "cell_type": "markdown",
      "source": [
        "# 03_feet_to_inches"
      ],
      "metadata": {
        "id": "34e5EhDFS7VU"
      }
    },
    {
      "cell_type": "code",
      "source": [
        "print(\"03_feet_to_inches\")\n",
        "\n",
        "inches_per_foot : int = 12\n",
        "def foot():\n",
        "  feet :float =float(input(\"Enter the number of feet, it'll be converted to inches: \"))\n",
        "  inches : float = feet * inches_per_foot\n",
        "  print(str(feet) + \" converted to \" + str(inches) + \" inches!\")\n",
        "\n",
        "if __name__ == \"__main__\":\n",
        "  foot()\n"
      ],
      "metadata": {
        "id": "zpwMziTaFxTd",
        "colab": {
          "base_uri": "https://localhost:8080/"
        },
        "outputId": "4d92ef1b-7ff3-49af-f5bd-b4e7d47505f7"
      },
      "execution_count": null,
      "outputs": [
        {
          "output_type": "stream",
          "name": "stdout",
          "text": [
            "03_feet_to_inches\n",
            "Enter the number of feet, it'll be converted to inches: 3\n",
            "3.0 converted to 36.0 inches!\n"
          ]
        }
      ]
    },
    {
      "cell_type": "markdown",
      "source": [
        "# 04_pythagorean_theorem"
      ],
      "metadata": {
        "id": "rNFR7nRtTFJE"
      }
    },
    {
      "cell_type": "code",
      "source": [
        "print(\"04_pythagorean_theorem\")\n",
        "\n",
        "import math\n",
        "\n",
        "def triangle():\n",
        "  ab : float = float(input(\"Enter the length of side AB: \"))\n",
        "  ac : float = float(input(\"Enter the length of side AC: \"))\n",
        "  bc : float = math.sqrt(ab ** 2 + ac ** 2)\n",
        "  print(\"The length of BC (the hypotenuse) is: \", str(bc))\n",
        "\n",
        "if __name__ == \"__main__\":\n",
        "  triangle()\n"
      ],
      "metadata": {
        "colab": {
          "base_uri": "https://localhost:8080/"
        },
        "id": "-pJiK_hnNTqh",
        "outputId": "3bfce771-4769-481a-e8d7-e57f534c07a8"
      },
      "execution_count": null,
      "outputs": [
        {
          "output_type": "stream",
          "name": "stdout",
          "text": [
            "04_pythagorean_theorem\n",
            "Enter the length of side AB: 12\n",
            "Enter the length of side AC: 13\n",
            "The length of BC (the hypotenuse) is:  17.69180601295413\n"
          ]
        }
      ]
    },
    {
      "cell_type": "markdown",
      "source": [
        "# 05_remainder_division"
      ],
      "metadata": {
        "id": "_-AM-Q9UTJsd"
      }
    },
    {
      "cell_type": "code",
      "source": [
        "print(\"05_remainder_division\")\n",
        "\n",
        "def division():\n",
        "  dividend : int = int(input(\"Please enter an integer to be divided: \"))\n",
        "  divisor : int = int(input(\"Please enter an integer to divide by: \"))\n",
        "\n",
        "  quotient : int = dividend // divisor\n",
        "  remainder : int = dividend % divisor\n",
        "\n",
        "  print(\"The result of this division is \" + str(quotient) + \" with a remainder of \" + str(remainder))\n",
        "\n",
        "if __name__ == \"__main__\":\n",
        "    division()"
      ],
      "metadata": {
        "colab": {
          "base_uri": "https://localhost:8080/"
        },
        "id": "AofdDjNTQFV6",
        "outputId": "3d348ef7-b3f1-4484-f559-0b7252605eac"
      },
      "execution_count": null,
      "outputs": [
        {
          "output_type": "stream",
          "name": "stdout",
          "text": [
            "05_remainder_division\n",
            "Please enter an integer to be divided: 2\n",
            "Please enter an integer to divide by: 5\n",
            "The result of this division is 0 with a remainder of 2\n"
          ]
        }
      ]
    },
    {
      "cell_type": "markdown",
      "source": [
        "# 06_rolldice"
      ],
      "metadata": {
        "id": "d3LeRZ5bTNxU"
      }
    },
    {
      "cell_type": "code",
      "source": [
        "print(\"06_rolldice\")\n",
        "\n",
        "import random\n",
        "\n",
        "def roll_dice():\n",
        "  dice1 : int = random.randint(1,6)\n",
        "  dice2 : int = random.randint(1,6)\n",
        "  total : int = int(dice1 + dice2)\n",
        "\n",
        "  print(\"First dice \" + str(dice1))\n",
        "  print(\"Second dice \" + str(dice2))\n",
        "  print(\"Total of tow dice \" + str(total))\n",
        "\n",
        "if __name__ == \"__main__\":\n",
        "  roll_dice()\n",
        "\n"
      ],
      "metadata": {
        "colab": {
          "base_uri": "https://localhost:8080/"
        },
        "id": "if4FrmhfTmDg",
        "outputId": "769ef556-8c83-4206-d82c-e340915393bb"
      },
      "execution_count": null,
      "outputs": [
        {
          "output_type": "stream",
          "name": "stdout",
          "text": [
            "06_rolldice\n",
            "First dice 6\n",
            "Second dice 1\n",
            "Total of tow dice 7\n"
          ]
        }
      ]
    },
    {
      "cell_type": "markdown",
      "source": [],
      "metadata": {
        "id": "8ooJmXqFbApd"
      }
    },
    {
      "cell_type": "markdown",
      "source": [
        "# 07_seconds_in_year"
      ],
      "metadata": {
        "id": "UEpMqRbhTUqE"
      }
    },
    {
      "cell_type": "code",
      "source": [
        "print(\"07_seconds_in_year\")\n",
        "\n",
        "days_per_year: int = 365\n",
        "hours_per_day: int = 24\n",
        "min_per_hour: int = 60\n",
        "sec_per_min: int = 60\n",
        "\n",
        "def seconds():\n",
        "\n",
        "  print(\"There are \" + str(days_per_year * hours_per_day * min_per_hour * sec_per_min) + \" seconds in a year!\")\n",
        "\n",
        "if __name__ == \"__main__\":\n",
        "  seconds()"
      ],
      "metadata": {
        "colab": {
          "base_uri": "https://localhost:8080/"
        },
        "id": "TtycQAMJbC-b",
        "outputId": "977dae73-abcf-4229-8520-d2e6a637982d"
      },
      "execution_count": 1,
      "outputs": [
        {
          "output_type": "stream",
          "name": "stdout",
          "text": [
            "07_seconds_in_year\n",
            "There are 31536000 seconds in a year!\n"
          ]
        }
      ]
    },
    {
      "cell_type": "markdown",
      "source": [
        "# 08_tiny_mad_lib"
      ],
      "metadata": {
        "id": "5GzAq74Mm0g5"
      }
    },
    {
      "cell_type": "code",
      "source": [
        "print(\"08_tiny_mad_lib\")\n",
        "\n",
        "def mad_lib():\n",
        "  noun : str = input(\"Enter a noun: \")\n",
        "  verb : str = input(\"Enter a verb: \")\n",
        "  adjective : str = input(\"Enter an adjective: \")\n",
        "\n",
        "  print(\"Do you \" + str(verb) + \" your \" + str(adjective) +\" \"+ str(noun))\n",
        "\n",
        "if __name__ == \"__main__\":\n",
        "  mad_lib()"
      ],
      "metadata": {
        "colab": {
          "base_uri": "https://localhost:8080/"
        },
        "id": "XKoGscyTe2p7",
        "outputId": "7bdd8708-1528-4bb1-8f50-24ab10c0e649"
      },
      "execution_count": 4,
      "outputs": [
        {
          "output_type": "stream",
          "name": "stdout",
          "text": [
            "08_tiny_mad_lib\n",
            "Enter a noun: cat\n",
            "Enter a verb: cuddle\n",
            "Enter an adjective: cute\n",
            "Do you cuddle your cute cat\n"
          ]
        }
      ]
    }
  ]
}